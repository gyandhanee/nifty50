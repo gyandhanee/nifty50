{
 "cells": [
  {
   "cell_type": "markdown",
   "metadata": {},
   "source": [
    "# WORK-IN-PROGRESS. DO NOT JUDGE."
   ]
  },
  {
   "cell_type": "markdown",
   "metadata": {},
   "source": [
    "Analysis is based on nifty50 index from 14 Oct 2016 to 13 Oct 2017"
   ]
  },
  {
   "cell_type": "code",
   "execution_count": 113,
   "metadata": {
    "collapsed": true
   },
   "outputs": [],
   "source": [
    "#import necesary libraries\n",
    "\n",
    "import pandas as pd\n",
    "import numpy as np\n",
    "\n",
    "import matplotlib.pyplot as plt\n",
    "import seaborn as sns\n",
    "%matplotlib inline\n",
    "\n",
    "import calendar"
   ]
  },
  {
   "cell_type": "code",
   "execution_count": 135,
   "metadata": {},
   "outputs": [
    {
     "data": {
      "text/html": [
       "<div>\n",
       "<style>\n",
       "    .dataframe thead tr:only-child th {\n",
       "        text-align: right;\n",
       "    }\n",
       "\n",
       "    .dataframe thead th {\n",
       "        text-align: left;\n",
       "    }\n",
       "\n",
       "    .dataframe tbody tr th {\n",
       "        vertical-align: top;\n",
       "    }\n",
       "</style>\n",
       "<table border=\"1\" class=\"dataframe\">\n",
       "  <thead>\n",
       "    <tr style=\"text-align: right;\">\n",
       "      <th></th>\n",
       "      <th>Open</th>\n",
       "      <th>High</th>\n",
       "      <th>Low</th>\n",
       "      <th>Close</th>\n",
       "      <th>Shares Traded</th>\n",
       "      <th>Turnover (Rs. Cr)</th>\n",
       "    </tr>\n",
       "    <tr>\n",
       "      <th>Date</th>\n",
       "      <th></th>\n",
       "      <th></th>\n",
       "      <th></th>\n",
       "      <th></th>\n",
       "      <th></th>\n",
       "      <th></th>\n",
       "    </tr>\n",
       "  </thead>\n",
       "  <tbody>\n",
       "    <tr>\n",
       "      <th>2016-10-14</th>\n",
       "      <td>8594.00</td>\n",
       "      <td>8604.45</td>\n",
       "      <td>8549.80</td>\n",
       "      <td>8583.4</td>\n",
       "      <td>167848947</td>\n",
       "      <td>9613.47</td>\n",
       "    </tr>\n",
       "    <tr>\n",
       "      <th>2016-10-17</th>\n",
       "      <td>8612.95</td>\n",
       "      <td>8615.40</td>\n",
       "      <td>8506.15</td>\n",
       "      <td>8520.4</td>\n",
       "      <td>203516577</td>\n",
       "      <td>8590.35</td>\n",
       "    </tr>\n",
       "    <tr>\n",
       "      <th>2016-10-18</th>\n",
       "      <td>8556.05</td>\n",
       "      <td>8685.10</td>\n",
       "      <td>8555.90</td>\n",
       "      <td>8677.9</td>\n",
       "      <td>216626083</td>\n",
       "      <td>9162.11</td>\n",
       "    </tr>\n",
       "    <tr>\n",
       "      <th>2016-10-19</th>\n",
       "      <td>8697.50</td>\n",
       "      <td>8698.75</td>\n",
       "      <td>8636.70</td>\n",
       "      <td>8659.1</td>\n",
       "      <td>177397872</td>\n",
       "      <td>7790.01</td>\n",
       "    </tr>\n",
       "    <tr>\n",
       "      <th>2016-10-20</th>\n",
       "      <td>8693.35</td>\n",
       "      <td>8727.00</td>\n",
       "      <td>8678.30</td>\n",
       "      <td>8699.4</td>\n",
       "      <td>165952091</td>\n",
       "      <td>7120.32</td>\n",
       "    </tr>\n",
       "  </tbody>\n",
       "</table>\n",
       "</div>"
      ],
      "text/plain": [
       "               Open     High      Low   Close  Shares Traded  \\\n",
       "Date                                                           \n",
       "2016-10-14  8594.00  8604.45  8549.80  8583.4      167848947   \n",
       "2016-10-17  8612.95  8615.40  8506.15  8520.4      203516577   \n",
       "2016-10-18  8556.05  8685.10  8555.90  8677.9      216626083   \n",
       "2016-10-19  8697.50  8698.75  8636.70  8659.1      177397872   \n",
       "2016-10-20  8693.35  8727.00  8678.30  8699.4      165952091   \n",
       "\n",
       "            Turnover (Rs. Cr)  \n",
       "Date                           \n",
       "2016-10-14            9613.47  \n",
       "2016-10-17            8590.35  \n",
       "2016-10-18            9162.11  \n",
       "2016-10-19            7790.01  \n",
       "2016-10-20            7120.32  "
      ]
     },
     "execution_count": 135,
     "metadata": {},
     "output_type": "execute_result"
    }
   ],
   "source": [
    "#load in the data and see what is looks like\n",
    "\n",
    "data = pd.read_csv('./data/nifty50.csv', index_col=0, parse_dates=True)\n",
    "data.head()"
   ]
  },
  {
   "cell_type": "code",
   "execution_count": 136,
   "metadata": {},
   "outputs": [
    {
     "data": {
      "text/html": [
       "<div>\n",
       "<style>\n",
       "    .dataframe thead tr:only-child th {\n",
       "        text-align: right;\n",
       "    }\n",
       "\n",
       "    .dataframe thead th {\n",
       "        text-align: left;\n",
       "    }\n",
       "\n",
       "    .dataframe tbody tr th {\n",
       "        vertical-align: top;\n",
       "    }\n",
       "</style>\n",
       "<table border=\"1\" class=\"dataframe\">\n",
       "  <thead>\n",
       "    <tr style=\"text-align: right;\">\n",
       "      <th></th>\n",
       "      <th>Open</th>\n",
       "      <th>High</th>\n",
       "      <th>Low</th>\n",
       "      <th>Close</th>\n",
       "      <th>Shares Traded</th>\n",
       "      <th>Turnover (Rs. Cr)</th>\n",
       "      <th>dayofweek</th>\n",
       "    </tr>\n",
       "    <tr>\n",
       "      <th>Date</th>\n",
       "      <th></th>\n",
       "      <th></th>\n",
       "      <th></th>\n",
       "      <th></th>\n",
       "      <th></th>\n",
       "      <th></th>\n",
       "      <th></th>\n",
       "    </tr>\n",
       "  </thead>\n",
       "  <tbody>\n",
       "    <tr>\n",
       "      <th>2016-10-14</th>\n",
       "      <td>8594.00</td>\n",
       "      <td>8604.45</td>\n",
       "      <td>8549.80</td>\n",
       "      <td>8583.4</td>\n",
       "      <td>167848947</td>\n",
       "      <td>9613.47</td>\n",
       "      <td>Friday</td>\n",
       "    </tr>\n",
       "    <tr>\n",
       "      <th>2016-10-17</th>\n",
       "      <td>8612.95</td>\n",
       "      <td>8615.40</td>\n",
       "      <td>8506.15</td>\n",
       "      <td>8520.4</td>\n",
       "      <td>203516577</td>\n",
       "      <td>8590.35</td>\n",
       "      <td>Monday</td>\n",
       "    </tr>\n",
       "    <tr>\n",
       "      <th>2016-10-18</th>\n",
       "      <td>8556.05</td>\n",
       "      <td>8685.10</td>\n",
       "      <td>8555.90</td>\n",
       "      <td>8677.9</td>\n",
       "      <td>216626083</td>\n",
       "      <td>9162.11</td>\n",
       "      <td>Tuesday</td>\n",
       "    </tr>\n",
       "    <tr>\n",
       "      <th>2016-10-19</th>\n",
       "      <td>8697.50</td>\n",
       "      <td>8698.75</td>\n",
       "      <td>8636.70</td>\n",
       "      <td>8659.1</td>\n",
       "      <td>177397872</td>\n",
       "      <td>7790.01</td>\n",
       "      <td>Wednesday</td>\n",
       "    </tr>\n",
       "    <tr>\n",
       "      <th>2016-10-20</th>\n",
       "      <td>8693.35</td>\n",
       "      <td>8727.00</td>\n",
       "      <td>8678.30</td>\n",
       "      <td>8699.4</td>\n",
       "      <td>165952091</td>\n",
       "      <td>7120.32</td>\n",
       "      <td>Thursday</td>\n",
       "    </tr>\n",
       "  </tbody>\n",
       "</table>\n",
       "</div>"
      ],
      "text/plain": [
       "               Open     High      Low   Close  Shares Traded  \\\n",
       "Date                                                           \n",
       "2016-10-14  8594.00  8604.45  8549.80  8583.4      167848947   \n",
       "2016-10-17  8612.95  8615.40  8506.15  8520.4      203516577   \n",
       "2016-10-18  8556.05  8685.10  8555.90  8677.9      216626083   \n",
       "2016-10-19  8697.50  8698.75  8636.70  8659.1      177397872   \n",
       "2016-10-20  8693.35  8727.00  8678.30  8699.4      165952091   \n",
       "\n",
       "            Turnover (Rs. Cr)  dayofweek  \n",
       "Date                                      \n",
       "2016-10-14            9613.47     Friday  \n",
       "2016-10-17            8590.35     Monday  \n",
       "2016-10-18            9162.11    Tuesday  \n",
       "2016-10-19            7790.01  Wednesday  \n",
       "2016-10-20            7120.32   Thursday  "
      ]
     },
     "execution_count": 136,
     "metadata": {},
     "output_type": "execute_result"
    }
   ],
   "source": [
    "#create a new column with the day of the week\n",
    "\n",
    "data['dayofweek'] = data.index.weekday_name\n",
    "data.head()"
   ]
  },
  {
   "cell_type": "code",
   "execution_count": 137,
   "metadata": {},
   "outputs": [
    {
     "data": {
      "text/plain": [
       "Wednesday    52\n",
       "Thursday     51\n",
       "Friday       50\n",
       "Tuesday      50\n",
       "Monday       46\n",
       "Sunday        1\n",
       "Name: dayofweek, dtype: int64"
      ]
     },
     "execution_count": 137,
     "metadata": {},
     "output_type": "execute_result"
    }
   ],
   "source": [
    "data.dayofweek.value_counts()"
   ]
  },
  {
   "cell_type": "code",
   "execution_count": 138,
   "metadata": {},
   "outputs": [],
   "source": [
    "#Let's remove the one entry for Sunday. Check if it's the diwali/muhurat trading day\n",
    "data.drop(data[data.dayofweek == 'Sunday'].index, inplace=True)"
   ]
  },
  {
   "cell_type": "code",
   "execution_count": 139,
   "metadata": {},
   "outputs": [
    {
     "data": {
      "text/plain": [
       "<matplotlib.figure.Figure at 0x7f53b930fe50>"
      ]
     },
     "execution_count": 139,
     "metadata": {},
     "output_type": "execute_result"
    },
    {
     "data": {
      "text/plain": [
       "<matplotlib.axes._subplots.AxesSubplot at 0x7f53b91f6910>"
      ]
     },
     "execution_count": 139,
     "metadata": {},
     "output_type": "execute_result"
    },
    {
     "data": {
      "text/plain": [
       "(8600, 9300)"
      ]
     },
     "execution_count": 139,
     "metadata": {},
     "output_type": "execute_result"
    },
    {
     "data": {
      "image/png": "[encoded data removed]",
      "text/plain": [
       "<matplotlib.figure.Figure at 0x7f53b930fe50>"
      ]
     },
     "metadata": {},
     "output_type": "display_data"
    }
   ],
   "source": [
    "# Mean close day-wise\n",
    "avg_by_day = data.groupby('dayofweek', as_index=False).mean()\n",
    "avg_by_day.sort_values('Close', ascending=False, inplace=True)\n",
    "\n",
    "plt.figure(figsize=(10, 8))\n",
    "sns.barplot(data=avg_by_day, x='dayofweek', y='Close')\n",
    "plt.ylim((8600, 9300))"
   ]
  },
  {
   "cell_type": "code",
   "execution_count": 141,
   "metadata": {},
   "outputs": [
    {
     "data": {
      "text/plain": [
       "<matplotlib.figure.Figure at 0x7f53b92ae5d0>"
      ]
     },
     "execution_count": 141,
     "metadata": {},
     "output_type": "execute_result"
    },
    {
     "data": {
      "text/plain": [
       "<matplotlib.axes._subplots.AxesSubplot at 0x7f53b9139890>"
      ]
     },
     "execution_count": 141,
     "metadata": {},
     "output_type": "execute_result"
    },
    {
     "data": {
      "text/plain": [
       "(8600, 9300)"
      ]
     },
     "execution_count": 141,
     "metadata": {},
     "output_type": "execute_result"
    },
    {
     "data": {
      "image/png": "[encoded data removed]",
      "text/plain": [
       "<matplotlib.figure.Figure at 0x7f53b92ae5d0>"
      ]
     },
     "metadata": {},
     "output_type": "display_data"
    }
   ],
   "source": [
    "# Median close day-wise\n",
    "avg_by_day = data.groupby('dayofweek', as_index=False).median()\n",
    "avg_by_day.sort_values('Close', ascending=False, inplace=True)\n",
    "\n",
    "plt.figure(figsize=(10, 8))\n",
    "sns.barplot(data=avg_by_day, x='dayofweek', y='Close')\n",
    "plt.ylim((8600, 9300))"
   ]
  },
  {
   "cell_type": "markdown",
   "metadata": {},
   "source": [
    "Thursday ko nifty high pe close ho raha hai. Does it have anything to do with options trading?"
   ]
  },
  {
   "cell_type": "markdown",
   "metadata": {},
   "source": [
    "**Let's check the variance of the closing prices for every day of the week.**"
   ]
  },
  {
   "cell_type": "code",
   "execution_count": null,
   "metadata": {
    "collapsed": true
   },
   "outputs": [],
   "source": []
  }
 ],
 "metadata": {
  "kernelspec": {
   "display_name": "Python 2",
   "language": "python",
   "name": "python2"
  },
  "language_info": {
   "codemirror_mode": {
    "name": "ipython",
    "version": 2
   },
   "file_extension": ".py",
   "mimetype": "text/x-python",
   "name": "python",
   "nbconvert_exporter": "python",
   "pygments_lexer": "ipython2",
   "version": "2.7.13"
  }
 },
 "nbformat": 4,
 "nbformat_minor": 2
}
