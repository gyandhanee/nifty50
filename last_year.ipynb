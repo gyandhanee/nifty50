{
 "cells": [
  {
   "cell_type": "markdown",
   "metadata": {},
   "source": [
    "# WORK-IN-PROGRESS. DO NOT JUDGE."
   ]
  },
  {
   "cell_type": "markdown",
   "metadata": {},
   "source": [
    "Analysis is based on nifty50 index from 14 Oct 2016 to 13 Oct 2017 taken from [here](https://www.nseindia.com/products/content/equities/indices/historical_index_data.htm)\n",
    "\n",
    "**Note: Axes don't start from 0 in charts. As a result, the differences are magnified.**"
   ]
  },
  {
   "cell_type": "code",
   "execution_count": 1,
   "metadata": {
    "collapsed": true
   },
   "outputs": [],
   "source": [
    "#import necesary libraries\n",
    "\n",
    "import pandas as pd\n",
    "import numpy as np\n",
    "\n",
    "import matplotlib.pyplot as plt\n",
    "import seaborn as sns\n",
    "%matplotlib inline\n",
    "\n",
    "import calendar"
   ]
  },
  {
   "cell_type": "code",
   "execution_count": 2,
   "metadata": {},
   "outputs": [
    {
     "data": {
      "text/html": [
       "<div>\n",
       "<style>\n",
       "    .dataframe thead tr:only-child th {\n",
       "        text-align: right;\n",
       "    }\n",
       "\n",
       "    .dataframe thead th {\n",
       "        text-align: left;\n",
       "    }\n",
       "\n",
       "    .dataframe tbody tr th {\n",
       "        vertical-align: top;\n",
       "    }\n",
       "</style>\n",
       "<table border=\"1\" class=\"dataframe\">\n",
       "  <thead>\n",
       "    <tr style=\"text-align: right;\">\n",
       "      <th></th>\n",
       "      <th>Open</th>\n",
       "      <th>High</th>\n",
       "      <th>Low</th>\n",
       "      <th>Close</th>\n",
       "      <th>Shares Traded</th>\n",
       "      <th>Turnover (Rs. Cr)</th>\n",
       "    </tr>\n",
       "    <tr>\n",
       "      <th>Date</th>\n",
       "      <th></th>\n",
       "      <th></th>\n",
       "      <th></th>\n",
       "      <th></th>\n",
       "      <th></th>\n",
       "      <th></th>\n",
       "    </tr>\n",
       "  </thead>\n",
       "  <tbody>\n",
       "    <tr>\n",
       "      <th>2016-10-14</th>\n",
       "      <td>8594.00</td>\n",
       "      <td>8604.45</td>\n",
       "      <td>8549.80</td>\n",
       "      <td>8583.4</td>\n",
       "      <td>167848947</td>\n",
       "      <td>9613.47</td>\n",
       "    </tr>\n",
       "    <tr>\n",
       "      <th>2016-10-17</th>\n",
       "      <td>8612.95</td>\n",
       "      <td>8615.40</td>\n",
       "      <td>8506.15</td>\n",
       "      <td>8520.4</td>\n",
       "      <td>203516577</td>\n",
       "      <td>8590.35</td>\n",
       "    </tr>\n",
       "    <tr>\n",
       "      <th>2016-10-18</th>\n",
       "      <td>8556.05</td>\n",
       "      <td>8685.10</td>\n",
       "      <td>8555.90</td>\n",
       "      <td>8677.9</td>\n",
       "      <td>216626083</td>\n",
       "      <td>9162.11</td>\n",
       "    </tr>\n",
       "    <tr>\n",
       "      <th>2016-10-19</th>\n",
       "      <td>8697.50</td>\n",
       "      <td>8698.75</td>\n",
       "      <td>8636.70</td>\n",
       "      <td>8659.1</td>\n",
       "      <td>177397872</td>\n",
       "      <td>7790.01</td>\n",
       "    </tr>\n",
       "    <tr>\n",
       "      <th>2016-10-20</th>\n",
       "      <td>8693.35</td>\n",
       "      <td>8727.00</td>\n",
       "      <td>8678.30</td>\n",
       "      <td>8699.4</td>\n",
       "      <td>165952091</td>\n",
       "      <td>7120.32</td>\n",
       "    </tr>\n",
       "  </tbody>\n",
       "</table>\n",
       "</div>"
      ],
      "text/plain": [
       "               Open     High      Low   Close  Shares Traded  \\\n",
       "Date                                                           \n",
       "2016-10-14  8594.00  8604.45  8549.80  8583.4      167848947   \n",
       "2016-10-17  8612.95  8615.40  8506.15  8520.4      203516577   \n",
       "2016-10-18  8556.05  8685.10  8555.90  8677.9      216626083   \n",
       "2016-10-19  8697.50  8698.75  8636.70  8659.1      177397872   \n",
       "2016-10-20  8693.35  8727.00  8678.30  8699.4      165952091   \n",
       "\n",
       "            Turnover (Rs. Cr)  \n",
       "Date                           \n",
       "2016-10-14            9613.47  \n",
       "2016-10-17            8590.35  \n",
       "2016-10-18            9162.11  \n",
       "2016-10-19            7790.01  \n",
       "2016-10-20            7120.32  "
      ]
     },
     "execution_count": 2,
     "metadata": {},
     "output_type": "execute_result"
    }
   ],
   "source": [
    "#load in the data and see what is looks like\n",
    "\n",
    "data = pd.read_csv('./data/nifty50.csv', index_col=0, parse_dates=True)\n",
    "data.head()"
   ]
  },
  {
   "cell_type": "code",
   "execution_count": 3,
   "metadata": {},
   "outputs": [
    {
     "data": {
      "text/html": [
       "<div>\n",
       "<style>\n",
       "    .dataframe thead tr:only-child th {\n",
       "        text-align: right;\n",
       "    }\n",
       "\n",
       "    .dataframe thead th {\n",
       "        text-align: left;\n",
       "    }\n",
       "\n",
       "    .dataframe tbody tr th {\n",
       "        vertical-align: top;\n",
       "    }\n",
       "</style>\n",
       "<table border=\"1\" class=\"dataframe\">\n",
       "  <thead>\n",
       "    <tr style=\"text-align: right;\">\n",
       "      <th></th>\n",
       "      <th>Open</th>\n",
       "      <th>High</th>\n",
       "      <th>Low</th>\n",
       "      <th>Close</th>\n",
       "      <th>Shares Traded</th>\n",
       "      <th>Turnover (Rs. Cr)</th>\n",
       "      <th>dayofweek</th>\n",
       "    </tr>\n",
       "    <tr>\n",
       "      <th>Date</th>\n",
       "      <th></th>\n",
       "      <th></th>\n",
       "      <th></th>\n",
       "      <th></th>\n",
       "      <th></th>\n",
       "      <th></th>\n",
       "      <th></th>\n",
       "    </tr>\n",
       "  </thead>\n",
       "  <tbody>\n",
       "    <tr>\n",
       "      <th>2016-10-14</th>\n",
       "      <td>8594.00</td>\n",
       "      <td>8604.45</td>\n",
       "      <td>8549.80</td>\n",
       "      <td>8583.4</td>\n",
       "      <td>167848947</td>\n",
       "      <td>9613.47</td>\n",
       "      <td>Friday</td>\n",
       "    </tr>\n",
       "    <tr>\n",
       "      <th>2016-10-17</th>\n",
       "      <td>8612.95</td>\n",
       "      <td>8615.40</td>\n",
       "      <td>8506.15</td>\n",
       "      <td>8520.4</td>\n",
       "      <td>203516577</td>\n",
       "      <td>8590.35</td>\n",
       "      <td>Monday</td>\n",
       "    </tr>\n",
       "    <tr>\n",
       "      <th>2016-10-18</th>\n",
       "      <td>8556.05</td>\n",
       "      <td>8685.10</td>\n",
       "      <td>8555.90</td>\n",
       "      <td>8677.9</td>\n",
       "      <td>216626083</td>\n",
       "      <td>9162.11</td>\n",
       "      <td>Tuesday</td>\n",
       "    </tr>\n",
       "    <tr>\n",
       "      <th>2016-10-19</th>\n",
       "      <td>8697.50</td>\n",
       "      <td>8698.75</td>\n",
       "      <td>8636.70</td>\n",
       "      <td>8659.1</td>\n",
       "      <td>177397872</td>\n",
       "      <td>7790.01</td>\n",
       "      <td>Wednesday</td>\n",
       "    </tr>\n",
       "    <tr>\n",
       "      <th>2016-10-20</th>\n",
       "      <td>8693.35</td>\n",
       "      <td>8727.00</td>\n",
       "      <td>8678.30</td>\n",
       "      <td>8699.4</td>\n",
       "      <td>165952091</td>\n",
       "      <td>7120.32</td>\n",
       "      <td>Thursday</td>\n",
       "    </tr>\n",
       "  </tbody>\n",
       "</table>\n",
       "</div>"
      ],
      "text/plain": [
       "               Open     High      Low   Close  Shares Traded  \\\n",
       "Date                                                           \n",
       "2016-10-14  8594.00  8604.45  8549.80  8583.4      167848947   \n",
       "2016-10-17  8612.95  8615.40  8506.15  8520.4      203516577   \n",
       "2016-10-18  8556.05  8685.10  8555.90  8677.9      216626083   \n",
       "2016-10-19  8697.50  8698.75  8636.70  8659.1      177397872   \n",
       "2016-10-20  8693.35  8727.00  8678.30  8699.4      165952091   \n",
       "\n",
       "            Turnover (Rs. Cr)  dayofweek  \n",
       "Date                                      \n",
       "2016-10-14            9613.47     Friday  \n",
       "2016-10-17            8590.35     Monday  \n",
       "2016-10-18            9162.11    Tuesday  \n",
       "2016-10-19            7790.01  Wednesday  \n",
       "2016-10-20            7120.32   Thursday  "
      ]
     },
     "execution_count": 3,
     "metadata": {},
     "output_type": "execute_result"
    }
   ],
   "source": [
    "#create a new column with the day of the week\n",
    "\n",
    "data['dayofweek'] = data.index.weekday_name\n",
    "data.head()"
   ]
  },
  {
   "cell_type": "code",
   "execution_count": 4,
   "metadata": {},
   "outputs": [
    {
     "data": {
      "text/plain": [
       "Wednesday    52\n",
       "Thursday     51\n",
       "Friday       50\n",
       "Tuesday      50\n",
       "Monday       46\n",
       "Sunday        1\n",
       "Name: dayofweek, dtype: int64"
      ]
     },
     "execution_count": 4,
     "metadata": {},
     "output_type": "execute_result"
    }
   ],
   "source": [
    "data.dayofweek.value_counts()"
   ]
  },
  {
   "cell_type": "code",
   "execution_count": 5,
   "metadata": {
    "collapsed": true
   },
   "outputs": [],
   "source": [
    "#Remove the one entry for Sunday. Check if it's the diwali/muhurat trading day\n",
    "data.drop(data[data.dayofweek == 'Sunday'].index, inplace=True)"
   ]
  },
  {
   "cell_type": "code",
   "execution_count": 6,
   "metadata": {},
   "outputs": [
    {
     "data": {
      "text/html": [
       "<div>\n",
       "<style>\n",
       "    .dataframe thead tr:only-child th {\n",
       "        text-align: right;\n",
       "    }\n",
       "\n",
       "    .dataframe thead th {\n",
       "        text-align: left;\n",
       "    }\n",
       "\n",
       "    .dataframe tbody tr th {\n",
       "        vertical-align: top;\n",
       "    }\n",
       "</style>\n",
       "<table border=\"1\" class=\"dataframe\">\n",
       "  <thead>\n",
       "    <tr style=\"text-align: right;\">\n",
       "      <th></th>\n",
       "      <th>Open</th>\n",
       "      <th>High</th>\n",
       "      <th>Low</th>\n",
       "      <th>Close</th>\n",
       "      <th>Shares Traded</th>\n",
       "      <th>Turnover (Rs. Cr)</th>\n",
       "      <th>dayofweek</th>\n",
       "      <th>range</th>\n",
       "      <th>change</th>\n",
       "    </tr>\n",
       "    <tr>\n",
       "      <th>Date</th>\n",
       "      <th></th>\n",
       "      <th></th>\n",
       "      <th></th>\n",
       "      <th></th>\n",
       "      <th></th>\n",
       "      <th></th>\n",
       "      <th></th>\n",
       "      <th></th>\n",
       "      <th></th>\n",
       "    </tr>\n",
       "  </thead>\n",
       "  <tbody>\n",
       "    <tr>\n",
       "      <th>2016-10-14</th>\n",
       "      <td>8594.00</td>\n",
       "      <td>8604.45</td>\n",
       "      <td>8549.80</td>\n",
       "      <td>8583.4</td>\n",
       "      <td>167848947</td>\n",
       "      <td>9613.47</td>\n",
       "      <td>Friday</td>\n",
       "      <td>54.65</td>\n",
       "      <td>10.60</td>\n",
       "    </tr>\n",
       "    <tr>\n",
       "      <th>2016-10-17</th>\n",
       "      <td>8612.95</td>\n",
       "      <td>8615.40</td>\n",
       "      <td>8506.15</td>\n",
       "      <td>8520.4</td>\n",
       "      <td>203516577</td>\n",
       "      <td>8590.35</td>\n",
       "      <td>Monday</td>\n",
       "      <td>109.25</td>\n",
       "      <td>92.55</td>\n",
       "    </tr>\n",
       "    <tr>\n",
       "      <th>2016-10-18</th>\n",
       "      <td>8556.05</td>\n",
       "      <td>8685.10</td>\n",
       "      <td>8555.90</td>\n",
       "      <td>8677.9</td>\n",
       "      <td>216626083</td>\n",
       "      <td>9162.11</td>\n",
       "      <td>Tuesday</td>\n",
       "      <td>129.20</td>\n",
       "      <td>-121.85</td>\n",
       "    </tr>\n",
       "    <tr>\n",
       "      <th>2016-10-19</th>\n",
       "      <td>8697.50</td>\n",
       "      <td>8698.75</td>\n",
       "      <td>8636.70</td>\n",
       "      <td>8659.1</td>\n",
       "      <td>177397872</td>\n",
       "      <td>7790.01</td>\n",
       "      <td>Wednesday</td>\n",
       "      <td>62.05</td>\n",
       "      <td>38.40</td>\n",
       "    </tr>\n",
       "    <tr>\n",
       "      <th>2016-10-20</th>\n",
       "      <td>8693.35</td>\n",
       "      <td>8727.00</td>\n",
       "      <td>8678.30</td>\n",
       "      <td>8699.4</td>\n",
       "      <td>165952091</td>\n",
       "      <td>7120.32</td>\n",
       "      <td>Thursday</td>\n",
       "      <td>48.70</td>\n",
       "      <td>-6.05</td>\n",
       "    </tr>\n",
       "  </tbody>\n",
       "</table>\n",
       "</div>"
      ],
      "text/plain": [
       "               Open     High      Low   Close  Shares Traded  \\\n",
       "Date                                                           \n",
       "2016-10-14  8594.00  8604.45  8549.80  8583.4      167848947   \n",
       "2016-10-17  8612.95  8615.40  8506.15  8520.4      203516577   \n",
       "2016-10-18  8556.05  8685.10  8555.90  8677.9      216626083   \n",
       "2016-10-19  8697.50  8698.75  8636.70  8659.1      177397872   \n",
       "2016-10-20  8693.35  8727.00  8678.30  8699.4      165952091   \n",
       "\n",
       "            Turnover (Rs. Cr)  dayofweek   range  change  \n",
       "Date                                                      \n",
       "2016-10-14            9613.47     Friday   54.65   10.60  \n",
       "2016-10-17            8590.35     Monday  109.25   92.55  \n",
       "2016-10-18            9162.11    Tuesday  129.20 -121.85  \n",
       "2016-10-19            7790.01  Wednesday   62.05   38.40  \n",
       "2016-10-20            7120.32   Thursday   48.70   -6.05  "
      ]
     },
     "execution_count": 6,
     "metadata": {},
     "output_type": "execute_result"
    }
   ],
   "source": [
    "#Add a column to record difference between highest and lowest for every day of week\n",
    "data['range'] = data['High'] - data['Low']\n",
    "data['change'] = data['Open'] - data['Close']\n",
    "data.head()"
   ]
  },
  {
   "cell_type": "code",
   "execution_count": 7,
   "metadata": {
    "collapsed": true
   },
   "outputs": [],
   "source": [
    "# day-wise Mean and Median for every column \n",
    "\n",
    "avg_by_day_mean = data.groupby('dayofweek', as_index=False).mean()\n",
    "avg_by_day_median = data.groupby('dayofweek', as_index=False).median()"
   ]
  },
  {
   "cell_type": "code",
   "execution_count": 8,
   "metadata": {},
   "outputs": [
    {
     "data": {
      "image/png": "[encoded data removed]",
      "text/plain": [
       "<matplotlib.figure.Figure at 0x7f92b27e9190>"
      ]
     },
     "metadata": {},
     "output_type": "display_data"
    }
   ],
   "source": [
    "# barplot for mean and median close\n",
    "plt.figure(figsize=(12,7))\n",
    "\n",
    "plt.subplot(121)\n",
    "sns.barplot(data=avg_by_day_mean, y='dayofweek', x='Close')\n",
    "plt.xlim((8600, 9300))\n",
    "plt.xlabel('Mean Close')\n",
    "\n",
    "plt.subplot(122)\n",
    "sns.barplot(data=avg_by_day_median, y='dayofweek', x='Close')\n",
    "plt.xlim((8600, 9300))\n",
    "plt.xlabel('Median Close')\n",
    "\n",
    "plt.tight_layout()"
   ]
  },
  {
   "cell_type": "markdown",
   "metadata": {},
   "source": [
    "**Nifty may be closing higher on Thursdays. Does it have anything to do with options expiring on Thursdays?**"
   ]
  },
  {
   "cell_type": "code",
   "execution_count": 9,
   "metadata": {},
   "outputs": [
    {
     "data": {
      "image/png": "[encoded data removed]",
      "text/plain": [
       "<matplotlib.figure.Figure at 0x7f92b271de50>"
      ]
     },
     "metadata": {},
     "output_type": "display_data"
    }
   ],
   "source": [
    "# barplot for mean and median turnover\n",
    "\n",
    "plt.figure(figsize=(12,7))\n",
    "\n",
    "plt.subplot(121)\n",
    "sns.barplot(data=avg_by_day_mean, y='dayofweek', x='Turnover (Rs. Cr)')\n",
    "plt.xlabel('Mean Turnover(Rs. Cr)')\n",
    "plt.xlim((8000, 10600))\n",
    "\n",
    "plt.subplot(122)\n",
    "sns.barplot(data=avg_by_day_median, y='dayofweek', x='Turnover (Rs. Cr)')\n",
    "plt.xlabel('Median Turnover(Rs. Cr.)')\n",
    "plt.xlim((8000, 10000))\n",
    "plt.tight_layout()"
   ]
  },
  {
   "cell_type": "markdown",
   "metadata": {},
   "source": [
    "**Thursday see higher turnover on average. Average turnover is lowest on mondays.**"
   ]
  },
  {
   "cell_type": "code",
   "execution_count": null,
   "metadata": {
    "collapsed": true
   },
   "outputs": [],
   "source": []
  }
 ],
 "metadata": {
  "kernelspec": {
   "display_name": "Python 2",
   "language": "python",
   "name": "python2"
  },
  "language_info": {
   "codemirror_mode": {
    "name": "ipython",
    "version": 2
   },
   "file_extension": ".py",
   "mimetype": "text/x-python",
   "name": "python",
   "nbconvert_exporter": "python",
   "pygments_lexer": "ipython2",
   "version": "2.7.13"
  }
 },
 "nbformat": 4,
 "nbformat_minor": 2
}
